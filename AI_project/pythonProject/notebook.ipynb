{
 "cells": [
  {
   "cell_type": "code",
   "id": "initial_id",
   "metadata": {
    "collapsed": true,
    "ExecuteTime": {
     "end_time": "2024-11-28T02:23:24.773472Z",
     "start_time": "2024-11-28T02:22:51.421011Z"
    }
   },
   "source": [
    "!pip install pandas\n",
    "!pip install numpy\n",
    "!pip install matplotlib\n",
    "!pip install plotly\n",
    "!pip install seaborn\n",
    "!pip install scikit-learn\n",
    "!pip install sympy"
   ],
   "outputs": [
    {
     "name": "stdout",
     "output_type": "stream",
     "text": [
      "Requirement already satisfied: pandas in c:\\users\\rajaa\\documents\\git\\ai_accelerator_t19\\ai_project\\pythonproject\\.venv\\lib\\site-packages (2.2.3)"
     ]
    },
    {
     "name": "stderr",
     "output_type": "stream",
     "text": [
      "\n",
      "[notice] A new release of pip is available: 23.2.1 -> 24.3.1\n",
      "[notice] To update, run: python.exe -m pip install --upgrade pip\n"
     ]
    },
    {
     "name": "stdout",
     "output_type": "stream",
     "text": [
      "\n",
      "Requirement already satisfied: numpy>=1.26.0 in c:\\users\\rajaa\\documents\\git\\ai_accelerator_t19\\ai_project\\pythonproject\\.venv\\lib\\site-packages (from pandas) (2.1.3)\n",
      "Requirement already satisfied: python-dateutil>=2.8.2 in c:\\users\\rajaa\\documents\\git\\ai_accelerator_t19\\ai_project\\pythonproject\\.venv\\lib\\site-packages (from pandas) (2.9.0.post0)\n",
      "Requirement already satisfied: pytz>=2020.1 in c:\\users\\rajaa\\documents\\git\\ai_accelerator_t19\\ai_project\\pythonproject\\.venv\\lib\\site-packages (from pandas) (2024.2)\n",
      "Requirement already satisfied: tzdata>=2022.7 in c:\\users\\rajaa\\documents\\git\\ai_accelerator_t19\\ai_project\\pythonproject\\.venv\\lib\\site-packages (from pandas) (2024.2)\n",
      "Requirement already satisfied: six>=1.5 in c:\\users\\rajaa\\documents\\git\\ai_accelerator_t19\\ai_project\\pythonproject\\.venv\\lib\\site-packages (from python-dateutil>=2.8.2->pandas) (1.16.0)\n",
      "Requirement already satisfied: numpy in c:\\users\\rajaa\\documents\\git\\ai_accelerator_t19\\ai_project\\pythonproject\\.venv\\lib\\site-packages (2.1.3)\n"
     ]
    },
    {
     "name": "stderr",
     "output_type": "stream",
     "text": [
      "\n",
      "[notice] A new release of pip is available: 23.2.1 -> 24.3.1\n",
      "[notice] To update, run: python.exe -m pip install --upgrade pip\n"
     ]
    },
    {
     "name": "stdout",
     "output_type": "stream",
     "text": [
      "Requirement already satisfied: matplotlib in c:\\users\\rajaa\\documents\\git\\ai_accelerator_t19\\ai_project\\pythonproject\\.venv\\lib\\site-packages (3.9.2)\n",
      "Requirement already satisfied: contourpy>=1.0.1 in c:\\users\\rajaa\\documents\\git\\ai_accelerator_t19\\ai_project\\pythonproject\\.venv\\lib\\site-packages (from matplotlib) (1.3.1)\n",
      "Requirement already satisfied: cycler>=0.10 in c:\\users\\rajaa\\documents\\git\\ai_accelerator_t19\\ai_project\\pythonproject\\.venv\\lib\\site-packages (from matplotlib) (0.12.1)\n",
      "Requirement already satisfied: fonttools>=4.22.0 in c:\\users\\rajaa\\documents\\git\\ai_accelerator_t19\\ai_project\\pythonproject\\.venv\\lib\\site-packages (from matplotlib) (4.55.0)\n",
      "Requirement already satisfied: kiwisolver>=1.3.1 in c:\\users\\rajaa\\documents\\git\\ai_accelerator_t19\\ai_project\\pythonproject\\.venv\\lib\\site-packages (from matplotlib) (1.4.7)\n",
      "Requirement already satisfied: numpy>=1.23 in c:\\users\\rajaa\\documents\\git\\ai_accelerator_t19\\ai_project\\pythonproject\\.venv\\lib\\site-packages (from matplotlib) (2.1.3)\n",
      "Requirement already satisfied: packaging>=20.0 in c:\\users\\rajaa\\documents\\git\\ai_accelerator_t19\\ai_project\\pythonproject\\.venv\\lib\\site-packages (from matplotlib) (24.2)\n",
      "Requirement already satisfied: pillow>=8 in c:\\users\\rajaa\\documents\\git\\ai_accelerator_t19\\ai_project\\pythonproject\\.venv\\lib\\site-packages (from matplotlib) (11.0.0)\n",
      "Requirement already satisfied: pyparsing>=2.3.1 in c:\\users\\rajaa\\documents\\git\\ai_accelerator_t19\\ai_project\\pythonproject\\.venv\\lib\\site-packages (from matplotlib) (3.2.0)\n",
      "Requirement already satisfied: python-dateutil>=2.7 in c:\\users\\rajaa\\documents\\git\\ai_accelerator_t19\\ai_project\\pythonproject\\.venv\\lib\\site-packages (from matplotlib) (2.9.0.post0)\n",
      "Requirement already satisfied: six>=1.5 in c:\\users\\rajaa\\documents\\git\\ai_accelerator_t19\\ai_project\\pythonproject\\.venv\\lib\\site-packages (from python-dateutil>=2.7->matplotlib) (1.16.0)\n"
     ]
    },
    {
     "name": "stderr",
     "output_type": "stream",
     "text": [
      "\n",
      "[notice] A new release of pip is available: 23.2.1 -> 24.3.1\n",
      "[notice] To update, run: python.exe -m pip install --upgrade pip\n"
     ]
    },
    {
     "name": "stdout",
     "output_type": "stream",
     "text": [
      "Requirement already satisfied: plotly in c:\\users\\rajaa\\documents\\git\\ai_accelerator_t19\\ai_project\\pythonproject\\.venv\\lib\\site-packages (5.24.1)\n",
      "Requirement already satisfied: tenacity>=6.2.0 in c:\\users\\rajaa\\documents\\git\\ai_accelerator_t19\\ai_project\\pythonproject\\.venv\\lib\\site-packages (from plotly) (9.0.0)\n",
      "Requirement already satisfied: packaging in c:\\users\\rajaa\\documents\\git\\ai_accelerator_t19\\ai_project\\pythonproject\\.venv\\lib\\site-packages (from plotly) (24.2)\n"
     ]
    },
    {
     "name": "stderr",
     "output_type": "stream",
     "text": [
      "\n",
      "[notice] A new release of pip is available: 23.2.1 -> 24.3.1\n",
      "[notice] To update, run: python.exe -m pip install --upgrade pip\n"
     ]
    },
    {
     "name": "stdout",
     "output_type": "stream",
     "text": [
      "Requirement already satisfied: seaborn in c:\\users\\rajaa\\documents\\git\\ai_accelerator_t19\\ai_project\\pythonproject\\.venv\\lib\\site-packages (0.13.2)\n",
      "Requirement already satisfied: numpy!=1.24.0,>=1.20 in c:\\users\\rajaa\\documents\\git\\ai_accelerator_t19\\ai_project\\pythonproject\\.venv\\lib\\site-packages (from seaborn) (2.1.3)\n",
      "Requirement already satisfied: pandas>=1.2 in c:\\users\\rajaa\\documents\\git\\ai_accelerator_t19\\ai_project\\pythonproject\\.venv\\lib\\site-packages (from seaborn) (2.2.3)\n",
      "Requirement already satisfied: matplotlib!=3.6.1,>=3.4 in c:\\users\\rajaa\\documents\\git\\ai_accelerator_t19\\ai_project\\pythonproject\\.venv\\lib\\site-packages (from seaborn) (3.9.2)\n",
      "Requirement already satisfied: contourpy>=1.0.1 in c:\\users\\rajaa\\documents\\git\\ai_accelerator_t19\\ai_project\\pythonproject\\.venv\\lib\\site-packages (from matplotlib!=3.6.1,>=3.4->seaborn) (1.3.1)\n",
      "Requirement already satisfied: cycler>=0.10 in c:\\users\\rajaa\\documents\\git\\ai_accelerator_t19\\ai_project\\pythonproject\\.venv\\lib\\site-packages (from matplotlib!=3.6.1,>=3.4->seaborn) (0.12.1)\n",
      "Requirement already satisfied: fonttools>=4.22.0 in c:\\users\\rajaa\\documents\\git\\ai_accelerator_t19\\ai_project\\pythonproject\\.venv\\lib\\site-packages (from matplotlib!=3.6.1,>=3.4->seaborn) (4.55.0)\n",
      "Requirement already satisfied: kiwisolver>=1.3.1 in c:\\users\\rajaa\\documents\\git\\ai_accelerator_t19\\ai_project\\pythonproject\\.venv\\lib\\site-packages (from matplotlib!=3.6.1,>=3.4->seaborn) (1.4.7)\n",
      "Requirement already satisfied: packaging>=20.0 in c:\\users\\rajaa\\documents\\git\\ai_accelerator_t19\\ai_project\\pythonproject\\.venv\\lib\\site-packages (from matplotlib!=3.6.1,>=3.4->seaborn) (24.2)\n",
      "Requirement already satisfied: pillow>=8 in c:\\users\\rajaa\\documents\\git\\ai_accelerator_t19\\ai_project\\pythonproject\\.venv\\lib\\site-packages (from matplotlib!=3.6.1,>=3.4->seaborn) (11.0.0)\n",
      "Requirement already satisfied: pyparsing>=2.3.1 in c:\\users\\rajaa\\documents\\git\\ai_accelerator_t19\\ai_project\\pythonproject\\.venv\\lib\\site-packages (from matplotlib!=3.6.1,>=3.4->seaborn) (3.2.0)\n",
      "Requirement already satisfied: python-dateutil>=2.7 in c:\\users\\rajaa\\documents\\git\\ai_accelerator_t19\\ai_project\\pythonproject\\.venv\\lib\\site-packages (from matplotlib!=3.6.1,>=3.4->seaborn) (2.9.0.post0)\n",
      "Requirement already satisfied: pytz>=2020.1 in c:\\users\\rajaa\\documents\\git\\ai_accelerator_t19\\ai_project\\pythonproject\\.venv\\lib\\site-packages (from pandas>=1.2->seaborn) (2024.2)\n",
      "Requirement already satisfied: tzdata>=2022.7 in c:\\users\\rajaa\\documents\\git\\ai_accelerator_t19\\ai_project\\pythonproject\\.venv\\lib\\site-packages (from pandas>=1.2->seaborn) (2024.2)\n",
      "Requirement already satisfied: six>=1.5 in c:\\users\\rajaa\\documents\\git\\ai_accelerator_t19\\ai_project\\pythonproject\\.venv\\lib\\site-packages (from python-dateutil>=2.7->matplotlib!=3.6.1,>=3.4->seaborn) (1.16.0)\n"
     ]
    },
    {
     "name": "stderr",
     "output_type": "stream",
     "text": [
      "\n",
      "[notice] A new release of pip is available: 23.2.1 -> 24.3.1\n",
      "[notice] To update, run: python.exe -m pip install --upgrade pip\n"
     ]
    },
    {
     "name": "stdout",
     "output_type": "stream",
     "text": [
      "Requirement already satisfied: scikit-learn in c:\\users\\rajaa\\documents\\git\\ai_accelerator_t19\\ai_project\\pythonproject\\.venv\\lib\\site-packages (1.5.2)\n",
      "Requirement already satisfied: numpy>=1.19.5 in c:\\users\\rajaa\\documents\\git\\ai_accelerator_t19\\ai_project\\pythonproject\\.venv\\lib\\site-packages (from scikit-learn) (2.1.3)\n",
      "Requirement already satisfied: scipy>=1.6.0 in c:\\users\\rajaa\\documents\\git\\ai_accelerator_t19\\ai_project\\pythonproject\\.venv\\lib\\site-packages (from scikit-learn) (1.14.1)\n",
      "Requirement already satisfied: joblib>=1.2.0 in c:\\users\\rajaa\\documents\\git\\ai_accelerator_t19\\ai_project\\pythonproject\\.venv\\lib\\site-packages (from scikit-learn) (1.4.2)\n",
      "Requirement already satisfied: threadpoolctl>=3.1.0 in c:\\users\\rajaa\\documents\\git\\ai_accelerator_t19\\ai_project\\pythonproject\\.venv\\lib\\site-packages (from scikit-learn) (3.5.0)\n"
     ]
    },
    {
     "name": "stderr",
     "output_type": "stream",
     "text": [
      "\n",
      "[notice] A new release of pip is available: 23.2.1 -> 24.3.1\n",
      "[notice] To update, run: python.exe -m pip install --upgrade pip\n"
     ]
    },
    {
     "name": "stdout",
     "output_type": "stream",
     "text": [
      "Collecting sympy\n",
      "  Obtaining dependency information for sympy from https://files.pythonhosted.org/packages/99/ff/c87e0622b1dadea79d2fb0b25ade9ed98954c9033722eb707053d310d4f3/sympy-1.13.3-py3-none-any.whl.metadata\n",
      "  Downloading sympy-1.13.3-py3-none-any.whl.metadata (12 kB)\n",
      "Collecting mpmath<1.4,>=1.1.0 (from sympy)\n",
      "  Obtaining dependency information for mpmath<1.4,>=1.1.0 from https://files.pythonhosted.org/packages/43/e3/7d92a15f894aa0c9c4b49b8ee9ac9850d6e63b03c9c32c0367a13ae62209/mpmath-1.3.0-py3-none-any.whl.metadata\n",
      "  Downloading mpmath-1.3.0-py3-none-any.whl.metadata (8.6 kB)\n",
      "Downloading sympy-1.13.3-py3-none-any.whl (6.2 MB)\n",
      "   ---------------------------------------- 0.0/6.2 MB ? eta -:--:--\n",
      "   ---------------------------------------- 0.0/6.2 MB 960.0 kB/s eta 0:00:07\n",
      "   - -------------------------------------- 0.3/6.2 MB 3.8 MB/s eta 0:00:02\n",
      "   --- ------------------------------------ 0.5/6.2 MB 3.9 MB/s eta 0:00:02\n",
      "   ----- ---------------------------------- 0.9/6.2 MB 5.1 MB/s eta 0:00:02\n",
      "   ------ --------------------------------- 1.1/6.2 MB 5.2 MB/s eta 0:00:01\n",
      "   --------- ------------------------------ 1.4/6.2 MB 5.4 MB/s eta 0:00:01\n",
      "   ------------ --------------------------- 1.9/6.2 MB 6.1 MB/s eta 0:00:01\n",
      "   -------------- ------------------------- 2.2/6.2 MB 6.1 MB/s eta 0:00:01\n",
      "   ---------------- ----------------------- 2.6/6.2 MB 6.4 MB/s eta 0:00:01\n",
      "   ------------------- -------------------- 3.0/6.2 MB 6.5 MB/s eta 0:00:01\n",
      "   --------------------- ------------------ 3.3/6.2 MB 6.8 MB/s eta 0:00:01\n",
      "   ----------------------- ---------------- 3.6/6.2 MB 6.6 MB/s eta 0:00:01\n",
      "   -------------------------- ------------- 4.1/6.2 MB 6.9 MB/s eta 0:00:01\n",
      "   ---------------------------- ----------- 4.5/6.2 MB 6.9 MB/s eta 0:00:01\n",
      "   -------------------------------- ------- 5.0/6.2 MB 7.2 MB/s eta 0:00:01\n",
      "   ---------------------------------- ----- 5.4/6.2 MB 7.3 MB/s eta 0:00:01\n",
      "   ------------------------------------- -- 5.8/6.2 MB 7.4 MB/s eta 0:00:01\n",
      "   ---------------------------------------  6.2/6.2 MB 7.6 MB/s eta 0:00:01\n",
      "   ---------------------------------------- 6.2/6.2 MB 7.5 MB/s eta 0:00:00\n",
      "Downloading mpmath-1.3.0-py3-none-any.whl (536 kB)\n",
      "   ---------------------------------------- 0.0/536.2 kB ? eta -:--:--\n",
      "   --------------------------------- ------ 450.6/536.2 kB 9.4 MB/s eta 0:00:01\n",
      "   ---------------------------------------- 536.2/536.2 kB 8.3 MB/s eta 0:00:00\n",
      "Installing collected packages: mpmath, sympy\n",
      "Successfully installed mpmath-1.3.0 sympy-1.13.3\n"
     ]
    },
    {
     "name": "stderr",
     "output_type": "stream",
     "text": [
      "\n",
      "[notice] A new release of pip is available: 23.2.1 -> 24.3.1\n",
      "[notice] To update, run: python.exe -m pip install --upgrade pip\n"
     ]
    }
   ],
   "execution_count": 3
  },
  {
   "metadata": {},
   "cell_type": "code",
   "outputs": [],
   "execution_count": null,
   "source": "",
   "id": "5e15f080f705330c"
  }
 ],
 "metadata": {
  "kernelspec": {
   "display_name": "Python 3",
   "language": "python",
   "name": "python3"
  },
  "language_info": {
   "codemirror_mode": {
    "name": "ipython",
    "version": 2
   },
   "file_extension": ".py",
   "mimetype": "text/x-python",
   "name": "python",
   "nbconvert_exporter": "python",
   "pygments_lexer": "ipython2",
   "version": "2.7.6"
  }
 },
 "nbformat": 4,
 "nbformat_minor": 5
}
